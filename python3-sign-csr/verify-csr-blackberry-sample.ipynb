{
 "cells": [
  {
   "cell_type": "markdown",
   "metadata": {
    "pycharm": {
     "name": "#%% md\n"
    }
   },
   "source": [
    "# Verify CSR signature script\n",
    "This script verifies the signature of a signed SCMS (Certificated Signing Request) CSR.\n",
    "The CSR is also known as enrollment request in SCMS. The signature uses ECDSA and SECP256R1 elliptic curve."
   ]
  },
  {
   "cell_type": "markdown",
   "metadata": {
    "pycharm": {
     "name": "#%% md\n"
    }
   },
   "source": [
    "## Import libraries"
   ]
  },
  {
   "cell_type": "code",
   "execution_count": 53,
   "metadata": {},
   "outputs": [],
   "source": [
    "from cryptography.hazmat.primitives import hashes\n",
    "from cryptography.hazmat.primitives.asymmetric import ec, utils"
   ]
  },
  {
   "cell_type": "markdown",
   "metadata": {},
   "source": [
    "## Input parameters"
   ]
  },
  {
   "cell_type": "code",
   "execution_count": 54,
   "metadata": {
    "pycharm": {
     "name": "#%%\n"
    }
   },
   "outputs": [
    {
     "name": "stdout",
     "output_type": "stream",
     "text": [
      "038381A3000181800001205EFE6344810954657374313233574C0000000004205DE385860002830101800348010180800103000182000320409500032040970100808083C0908F60CCE4A42A9E3D48B03BAAD6FB347A6E49DB176C0378096FA9626F6E08828083\n"
     ]
    }
   ],
   "source": [
    "pubKeyStr = '03C0908F60CCE4A42A9E3D48B03BAAD6FB347A6E49DB176C0378096FA9626F6E08' # compressed-y-1 0x03\n",
    "rStr = '036DEE89FB57BE191B35E36DF330752519EA5A4D938885AC72B86E08C6DC070D12' # compressed-y-1 0x03\n",
    "sStr = 'F96BF61FF83878CE20E5058869A22E4D88B543A84FA12501C432C9FEA0C76B12'\n",
    "data_oer = '03 83 81 A3 00 01 81 80 00 01 20 5E FE 63 44 81 09 54 65 73 74 31 32 33 57 4C 00 00 00 00 04 20 5D E3 85 86 00 02 83 01 01 80 03 48 01 01 80 80 01 03 00 01 82 00 03 20 40 95 00 03 20 40 97 01 00 80 80 83 C0 90 8F 60 CC E4 A4 2A 9E 3D 48 B0 3B AA D6 FB 34 7A 6E 49 DB 17 6C 03 78 09 6F A9 62 6F 6E 08 82 80 83'\n",
    "data_oer = data_oer.replace(' ', '')\n",
    "print(data_oer)"
   ]
  },
  {
   "cell_type": "markdown",
   "metadata": {
    "pycharm": {
     "name": "#%% md\n"
    }
   },
   "source": [
    "## Create public key object\n",
    "\n",
    "create a public key object using the hex-string provided as input"
   ]
  },
  {
   "cell_type": "code",
   "execution_count": 55,
   "metadata": {
    "pycharm": {
     "name": "#%%\n"
    }
   },
   "outputs": [],
   "source": [
    "pubKey = ec.EllipticCurvePublicKey.from_encoded_point(ec.SECP256R1(), bytes.fromhex(pubKeyStr))"
   ]
  },
  {
   "cell_type": "markdown",
   "metadata": {},
   "source": [
    "## Create the signature object\n",
    "\n",
    "Create the signature object using raw r and s values"
   ]
  },
  {
   "cell_type": "code",
   "execution_count": 56,
   "metadata": {},
   "outputs": [
    {
     "name": "stdout",
     "output_type": "stream",
     "text": [
      "r.x= 49723562412429786751074050785103168763251956693105466807068590618184836910354\n"
     ]
    }
   ],
   "source": [
    "r_point = ec.EllipticCurvePublicKey.from_encoded_point(ec.SECP256R1(), bytes.fromhex(rStr))\n",
    "print(\"r.x=\",r_point.public_numbers().x)\n",
    "r = r_point.public_numbers().x\n",
    "# r = int(rStr, 16)\n",
    "s = int(sStr, 16)\n",
    "signature = utils.encode_dss_signature(r,s)"
   ]
  },
  {
   "cell_type": "markdown",
   "metadata": {
    "pycharm": {
     "name": "#%% md\n"
    }
   },
   "source": [
    "## Finally verify the signature\n",
    "Prepare variables for verification. Convert data from string hex to byte array (note python 3 method is different from python 2)."
   ]
  },
  {
   "cell_type": "code",
   "execution_count": 57,
   "metadata": {
    "pycharm": {
     "name": "#%%\n"
    }
   },
   "outputs": [
    {
     "ename": "InvalidSignature",
     "evalue": "",
     "output_type": "error",
     "traceback": [
      "\u001B[1;31m---------------------------------------------------------------------------\u001B[0m",
      "\u001B[1;31mInvalidSignature\u001B[0m                          Traceback (most recent call last)",
      "\u001B[1;32m<ipython-input-57-b2bae72fda48>\u001B[0m in \u001B[0;36m<module>\u001B[1;34m\u001B[0m\n\u001B[0;32m      1\u001B[0m \u001B[1;31m# note it is mentioned it is suppose to be in DER encoding/format\u001B[0m\u001B[1;33m\u001B[0m\u001B[1;33m\u001B[0m\u001B[1;33m\u001B[0m\u001B[0m\n\u001B[0;32m      2\u001B[0m \u001B[0mdata\u001B[0m \u001B[1;33m=\u001B[0m \u001B[0mbytes\u001B[0m\u001B[1;33m.\u001B[0m\u001B[0mfromhex\u001B[0m\u001B[1;33m(\u001B[0m\u001B[0mdata_oer\u001B[0m\u001B[1;33m)\u001B[0m\u001B[1;33m\u001B[0m\u001B[1;33m\u001B[0m\u001B[0m\n\u001B[1;32m----> 3\u001B[1;33m \u001B[0mpubKey\u001B[0m\u001B[1;33m.\u001B[0m\u001B[0mverify\u001B[0m\u001B[1;33m(\u001B[0m\u001B[0msignature\u001B[0m\u001B[1;33m,\u001B[0m \u001B[0mdata\u001B[0m\u001B[1;33m,\u001B[0m \u001B[0mec\u001B[0m\u001B[1;33m.\u001B[0m\u001B[0mECDSA\u001B[0m\u001B[1;33m(\u001B[0m\u001B[0mhashes\u001B[0m\u001B[1;33m.\u001B[0m\u001B[0mSHA256\u001B[0m\u001B[1;33m(\u001B[0m\u001B[1;33m)\u001B[0m\u001B[1;33m)\u001B[0m\u001B[1;33m)\u001B[0m\u001B[1;33m\u001B[0m\u001B[1;33m\u001B[0m\u001B[0m\n\u001B[0m\u001B[0;32m      4\u001B[0m \u001B[0mprint\u001B[0m\u001B[1;33m(\u001B[0m\u001B[1;34m\"verified!\"\u001B[0m\u001B[1;33m)\u001B[0m\u001B[1;33m\u001B[0m\u001B[1;33m\u001B[0m\u001B[0m\n\u001B[0;32m      5\u001B[0m \u001B[1;33m\u001B[0m\u001B[0m\n",
      "\u001B[1;32mc:\\users\\hayda\\projects\\carleton-scms-integration-project\\python3-sign-csr\\venv\\lib\\site-packages\\cryptography\\hazmat\\backends\\openssl\\ec.py\u001B[0m in \u001B[0;36mverify\u001B[1;34m(self, signature, data, signature_algorithm)\u001B[0m\n\u001B[0;32m    376\u001B[0m             \u001B[0msignature_algorithm\u001B[0m\u001B[1;33m.\u001B[0m\u001B[0m_algorithm\u001B[0m\u001B[1;33m,\u001B[0m  \u001B[1;31m# type: ignore[attr-defined]\u001B[0m\u001B[1;33m\u001B[0m\u001B[1;33m\u001B[0m\u001B[0m\n\u001B[0;32m    377\u001B[0m         )\n\u001B[1;32m--> 378\u001B[1;33m         \u001B[0m_ecdsa_sig_verify\u001B[0m\u001B[1;33m(\u001B[0m\u001B[0mself\u001B[0m\u001B[1;33m.\u001B[0m\u001B[0m_backend\u001B[0m\u001B[1;33m,\u001B[0m \u001B[0mself\u001B[0m\u001B[1;33m,\u001B[0m \u001B[0msignature\u001B[0m\u001B[1;33m,\u001B[0m \u001B[0mdata\u001B[0m\u001B[1;33m)\u001B[0m\u001B[1;33m\u001B[0m\u001B[1;33m\u001B[0m\u001B[0m\n\u001B[0m",
      "\u001B[1;32mc:\\users\\hayda\\projects\\carleton-scms-integration-project\\python3-sign-csr\\venv\\lib\\site-packages\\cryptography\\hazmat\\backends\\openssl\\ec.py\u001B[0m in \u001B[0;36m_ecdsa_sig_verify\u001B[1;34m(backend, public_key, signature, data)\u001B[0m\n\u001B[0;32m    104\u001B[0m     \u001B[1;32mif\u001B[0m \u001B[0mres\u001B[0m \u001B[1;33m!=\u001B[0m \u001B[1;36m1\u001B[0m\u001B[1;33m:\u001B[0m\u001B[1;33m\u001B[0m\u001B[1;33m\u001B[0m\u001B[0m\n\u001B[0;32m    105\u001B[0m         \u001B[0mbackend\u001B[0m\u001B[1;33m.\u001B[0m\u001B[0m_consume_errors\u001B[0m\u001B[1;33m(\u001B[0m\u001B[1;33m)\u001B[0m\u001B[1;33m\u001B[0m\u001B[1;33m\u001B[0m\u001B[0m\n\u001B[1;32m--> 106\u001B[1;33m         \u001B[1;32mraise\u001B[0m \u001B[0mInvalidSignature\u001B[0m\u001B[1;33m\u001B[0m\u001B[1;33m\u001B[0m\u001B[0m\n\u001B[0m\u001B[0;32m    107\u001B[0m \u001B[1;33m\u001B[0m\u001B[0m\n\u001B[0;32m    108\u001B[0m \u001B[1;33m\u001B[0m\u001B[0m\n",
      "\u001B[1;31mInvalidSignature\u001B[0m: "
     ]
    }
   ],
   "source": [
    "# note it is mentioned it is suppose to be in DER encoding/format\n",
    "data = bytes.fromhex(data_oer)\n",
    "pubKey.verify(signature, data, ec.ECDSA(hashes.SHA256()))\n",
    "print(\"verified!\")"
   ]
  }
 ],
 "metadata": {
  "kernelspec": {
   "display_name": "Python 3",
   "language": "python",
   "name": "python3"
  },
  "language_info": {
   "codemirror_mode": {
    "name": "ipython",
    "version": 3
   },
   "file_extension": ".py",
   "mimetype": "text/x-python",
   "name": "python",
   "nbconvert_exporter": "python",
   "pygments_lexer": "ipython3",
   "version": "3.8.6"
  }
 },
 "nbformat": 4,
 "nbformat_minor": 1
}