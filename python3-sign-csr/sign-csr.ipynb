{
 "cells": [
  {
   "cell_type": "markdown",
   "metadata": {
    "pycharm": {
     "name": "#%% md\n"
    }
   },
   "source": [
    "# Script to sign a predefined CSR\n",
    "This script creates an EC key pair and signs a predefined Certificated Signing Request (CSR) of SCMS.\n",
    "The CSR is also known as enrollment request in SCMS. The signature uses ECDSA and SECP256R1 elliptic curve according to IEEE 1609.2 standard."
   ]
  },
  {
   "cell_type": "markdown",
   "metadata": {
    "pycharm": {
     "name": "#%% md\n"
    }
   },
   "source": [
    "## Import libraries"
   ]
  },
  {
   "cell_type": "code",
   "execution_count": 83,
   "metadata": {},
   "outputs": [],
   "source": [
    "from IPython.core.display import display, HTML\n",
    "from cryptography.hazmat.primitives import hashes\n",
    "from cryptography.hazmat.primitives.asymmetric import ec, utils\n",
    "from  cryptography.hazmat.primitives import serialization"
   ]
  },
  {
   "cell_type": "markdown",
   "metadata": {},
   "source": [
    "## Programmatically create the CSR (predefined)\n",
    "\n",
    "Create the CSR programmatically (the tbsRequest part of the CSR is already figured out using ASN.1 studio)\n",
    "and add public key (byte offset is known ahead of time). The predefined CSR data (tbsRequest field specifically) is defined as follows."
   ]
  },
  {
   "cell_type": "code",
   "execution_count": 84,
   "metadata": {
    "pycharm": {
     "name": "#%%\n"
    }
   },
   "outputs": [],
   "source": [
    "tbsRequest = \"018180000160D29D484481057273655F31000000000460D29D488600028301018003480101E08001030001820003204095000320409701000100808080\""
   ]
  },
  {
   "cell_type": "markdown",
   "metadata": {
    "pycharm": {
     "name": "#%% md\n"
    }
   },
   "source": [
    "## Create ECC key pair"
   ]
  },
  {
   "cell_type": "code",
   "execution_count": 85,
   "metadata": {
    "pycharm": {
     "name": "#%%\n"
    }
   },
   "outputs": [],
   "source": [
    "private_key = ec.generate_private_key(\n",
    "    ec.SECP256R1()\n",
    ")\n",
    "public_key = private_key.public_key()\n"
   ]
  },
  {
   "cell_type": "markdown",
   "metadata": {},
   "source": [
    "## Add public key in the compressed format\n",
    "Note that the public key compressed format is \"0x02/0x03 + x-point\", so you have to cut off the first byte"
   ]
  },
  {
   "cell_type": "code",
   "execution_count": 86,
   "metadata": {
    "pycharm": {
     "name": "#%%\n"
    }
   },
   "outputs": [
    {
     "name": "stdout",
     "output_type": "stream",
     "text": [
      "type:  02 , public key:  309e49889406da9d903caa89026708bc71230a9eb66649869025a3201cd4b4f9\n",
      "82309e49889406da9d903caa89026708bc71230a9eb66649869025a3201cd4b4f9\n"
     ]
    }
   ],
   "source": [
    "# compress the public key\n",
    "public_key_bytes = public_key.public_bytes(serialization.Encoding.X962, serialization.PublicFormat.CompressedPoint)\n",
    "public_key_hex = bytes.hex(public_key_bytes)\n",
    "typeStr = public_key_hex[:2]\n",
    "public_key_hex = public_key_hex[2:]\n",
    "print(\"type: \", typeStr, \", public key: \", public_key_hex)\n",
    "public_key_part = (\"82\" if typeStr == \"02\" else \"83\") + public_key_hex\n",
    "print(public_key_part)\n",
    "tbsRequest = tbsRequest + public_key_part"
   ]
  },
  {
   "cell_type": "markdown",
   "metadata": {},
   "source": [
    "## Sign the data (tbsRequest in the CSR)\n",
    "Note that sometimes the r and s values are not 64 hex characters or 32 bytes,\n",
    "sometimes become 63 bytes, may need to add padding"
   ]
  },
  {
   "cell_type": "code",
   "execution_count": 87,
   "metadata": {
    "pycharm": {
     "name": "#%%\n"
    }
   },
   "outputs": [],
   "source": [
    "data = bytes.fromhex(tbsRequest)\n",
    "signature = private_key.sign(\n",
    "     data,\n",
    "     ec.ECDSA(hashes.SHA256())\n",
    " )\n",
    "r, s = utils.decode_dss_signature(signature)\n",
    "rStr = \"{:X}\".format(r)\n",
    "sStr = \"{:X}\".format(s)"
   ]
  },
  {
   "cell_type": "markdown",
   "metadata": {},
   "source": [
    "## Add the signature to the CSR"
   ]
  },
  {
   "cell_type": "code",
   "execution_count": 88,
   "metadata": {
    "pycharm": {
     "name": "#%%\n"
    }
   },
   "outputs": [],
   "source": [
    "signedCSR = \"038381A200\" + tbsRequest + \"828080\" + rStr + sStr"
   ]
  },
  {
   "cell_type": "markdown",
   "metadata": {
    "pycharm": {
     "name": "#%% md\n"
    }
   },
   "source": [
    "Perform quick verify to ensure signature is working"
   ]
  },
  {
   "cell_type": "code",
   "execution_count": 89,
   "metadata": {
    "pycharm": {
     "name": "#%%\n"
    }
   },
   "outputs": [
    {
     "name": "stdout",
     "output_type": "stream",
     "text": [
      "Quick verify: successful!\n"
     ]
    }
   ],
   "source": [
    "public_key.verify(signature, data, ec.ECDSA(hashes.SHA256()))\n",
    "print(\"Quick verify: successful!\")"
   ]
  },
  {
   "cell_type": "markdown",
   "metadata": {
    "pycharm": {
     "name": "#%% md\n"
    }
   },
   "source": [
    "## Output the results as hex encoded strings\n",
    "We will test two tests, first is to verify signature using the ouputted data file and signature file.\n",
    "Second is to verify signature using only the CSR."
   ]
  },
  {
   "cell_type": "code",
   "execution_count": 90,
   "metadata": {
    "pycharm": {
     "name": "#%%\n"
    }
   },
   "outputs": [
    {
     "name": "stdout",
     "output_type": "stream",
     "text": [
      "public key (PEM format):\n",
      "-----BEGIN PUBLIC KEY-----\n",
      "MFkwEwYHKoZIzj0CAQYIKoZIzj0DAQcDQgAEMJ5JiJQG2p2QPKqJAmcIvHEjCp62\n",
      "ZkmGkCWjIBzUtPnArUoCyA4zrnQ0Y5giHpNtOgNPZLqHLfkwDjzGyBcX0A==\n",
      "-----END PUBLIC KEY-----\n",
      "\n",
      "public key (DER compressed format): 309e49889406da9d903caa89026708bc71230a9eb66649869025a3201cd4b4f9\n",
      "public key type (02): compressed-y-0\n",
      "[data:188]: 018180000160D29D484481057273655F31000000000460D29D488600028301018003480101E0800103000182000320409500032040970100010080808082309e49889406da9d903caa89026708bc71230a9eb66649869025a3201cd4b4f9\n",
      "[sig:71]:3045022100e74fe3dfc871a7dcb85c48f003dd87ec89bde939dcf0fd41b16f7dc619ff451502205d275dc37fdba78ed5c3c8476f759beca8a9f814cc95c68abc000832bf263aab\n",
      "[r:64]:E74FE3DFC871A7DCB85C48F003DD87EC89BDE939DCF0FD41B16F7DC619FF4515\n",
      "[s:64]:5D275DC37FDBA78ED5C3C8476F759BECA8A9F814CC95C68ABC000832BF263AAB\n",
      "[signed-CSR:332]:  038381A200018180000160D29D484481057273655F31000000000460D29D488600028301018003480101E0800103000182000320409500032040970100010080808082309e49889406da9d903caa89026708bc71230a9eb66649869025a3201cd4b4f9828080E74FE3DFC871A7DCB85C48F003DD87EC89BDE939DCF0FD41B16F7DC619FF45155D275DC37FDBA78ED5C3C8476F759BECA8A9F814CC95C68ABC000832BF263AAB\n"
     ]
    }
   ],
   "source": [
    "serialized_public = public_key.public_bytes(\n",
    "     encoding=serialization.Encoding.PEM,\n",
    "     format=serialization.PublicFormat.SubjectPublicKeyInfo\n",
    ")\n",
    "print(\"public key (PEM format):\")\n",
    "for l in serialized_public.splitlines():\n",
    "    print(l.decode('utf-8'))\n",
    "\n",
    "print(\"\\npublic key (DER compressed format):\", public_key_hex)\n",
    "print(f'public key type ({typeStr}): {\"compressed-y-1\" if typeStr == \"03\" else \"compressed-y-0\"}')\n",
    "print(f\"[data:{len(tbsRequest)}]:\", tbsRequest)\n",
    "print(f\"[sig:{len(signature)}]:{signature.hex()}\")\n",
    "print(f\"[r:{len(rStr)}]:{rStr}\")\n",
    "print(f\"[s:{len(sStr)}]:{sStr}\")\n",
    "print(f\"[signed-CSR:{len(signedCSR)}]: \", signedCSR)"
   ]
  }
 ],
 "metadata": {
  "kernelspec": {
   "display_name": "Python 3",
   "language": "python",
   "name": "python3"
  },
  "language_info": {
   "codemirror_mode": {
    "name": "ipython",
    "version": 3
   },
   "file_extension": ".py",
   "mimetype": "text/x-python",
   "name": "python",
   "nbconvert_exporter": "python",
   "pygments_lexer": "ipython3",
   "version": "3.8.6"
  }
 },
 "nbformat": 4,
 "nbformat_minor": 1
}