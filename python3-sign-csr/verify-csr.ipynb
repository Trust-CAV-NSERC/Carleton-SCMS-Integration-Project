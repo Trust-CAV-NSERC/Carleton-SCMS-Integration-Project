{
 "cells": [
  {
   "cell_type": "markdown",
   "metadata": {
    "pycharm": {
     "name": "#%% md\n"
    }
   },
   "source": [
    "# Verify CSR signature script\n",
    "This script verifies the signature of a signed SCMS (Certificated Signing Request) CSR.\n",
    "The CSR is also known as enrollment request in SCMS. The signature uses ECDSA and SECP256R1 elliptic curve."
   ]
  },
  {
   "cell_type": "markdown",
   "metadata": {
    "pycharm": {
     "name": "#%% md\n"
    }
   },
   "source": [
    "## Import libraries"
   ]
  },
  {
   "cell_type": "code",
   "execution_count": 1,
   "metadata": {},
   "outputs": [],
   "source": [
    "from cryptography.hazmat.primitives import hashes\n",
    "from cryptography.hazmat.primitives.asymmetric import ec, utils"
   ]
  },
  {
   "cell_type": "markdown",
   "metadata": {},
   "source": [
    "## Input parameters"
   ]
  },
  {
   "cell_type": "code",
   "execution_count": 2,
   "metadata": {
    "pycharm": {
     "name": "#%%\n"
    }
   },
   "outputs": [],
   "source": [
    "pubKeyStr = '02309e49889406da9d903caa89026708bc71230a9eb66649869025a3201cd4b4f9' # compressed-y-1 0x03\n",
    "rStr = 'E74FE3DFC871A7DCB85C48F003DD87EC89BDE939DCF0FD41B16F7DC619FF4515' # compressed-y-1 0x03\n",
    "sStr = '5D275DC37FDBA78ED5C3C8476F759BECA8A9F814CC95C68ABC000832BF263AAB'\n",
    "data_oer = '018180000160D29D484481057273655F31000000000460D29D488600028301018003480101E0800103000182000320409500032040970100010080808082309e49889406da9d903caa89026708bc71230a9eb66649869025a3201cd4b4f9'"
   ]
  },
  {
   "cell_type": "markdown",
   "metadata": {
    "pycharm": {
     "name": "#%% md\n"
    }
   },
   "source": [
    "## Create public key object\n",
    "\n",
    "create a public key object using the hex-string provided as input"
   ]
  },
  {
   "cell_type": "code",
   "execution_count": 3,
   "metadata": {
    "pycharm": {
     "name": "#%%\n"
    }
   },
   "outputs": [],
   "source": [
    "pubKey = ec.EllipticCurvePublicKey.from_encoded_point(ec.SECP256R1(), bytes.fromhex(pubKeyStr))"
   ]
  },
  {
   "cell_type": "markdown",
   "metadata": {},
   "source": [
    "## Create the signature object\n",
    "\n",
    "Create the signature object using raw r and s values"
   ]
  },
  {
   "cell_type": "code",
   "execution_count": 4,
   "metadata": {},
   "outputs": [],
   "source": [
    "r = int(rStr, 16)\n",
    "s = int(sStr, 16)\n",
    "signature = utils.encode_dss_signature(r,s)"
   ]
  },
  {
   "cell_type": "markdown",
   "metadata": {
    "pycharm": {
     "name": "#%% md\n"
    }
   },
   "source": [
    "## Finally verify the signature\n",
    "Prepare variables for verification. Convert data from string hex to byte array (note python 3 method is different from python 2)."
   ]
  },
  {
   "cell_type": "code",
   "execution_count": 5,
   "metadata": {
    "pycharm": {
     "name": "#%%\n"
    }
   },
   "outputs": [
    {
     "name": "stdout",
     "output_type": "stream",
     "text": [
      "verified!\n"
     ]
    }
   ],
   "source": [
    "# note it is mentioned it is suppose to be in DER encoding/format\n",
    "data = bytes.fromhex(data_oer)\n",
    "pubKey.verify(signature, data, ec.ECDSA(hashes.SHA256()))\n",
    "print(\"verified!\")"
   ]
  }
 ],
 "metadata": {
  "kernelspec": {
   "display_name": "Python 3",
   "language": "python",
   "name": "python3"
  },
  "language_info": {
   "codemirror_mode": {
    "name": "ipython",
    "version": 3
   },
   "file_extension": ".py",
   "mimetype": "text/x-python",
   "name": "python",
   "nbconvert_exporter": "python",
   "pygments_lexer": "ipython3",
   "version": "3.8.6"
  }
 },
 "nbformat": 4,
 "nbformat_minor": 1
}