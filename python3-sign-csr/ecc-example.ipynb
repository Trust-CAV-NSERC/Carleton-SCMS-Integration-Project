{
 "cells": [
  {
   "cell_type": "code",
   "execution_count": 1,
   "metadata": {
    "collapsed": true
   },
   "outputs": [],
   "source": [
    "from cryptography.hazmat.primitives import hashes\n",
    "from cryptography.hazmat.primitives.asymmetric import ec"
   ]
  },
  {
   "cell_type": "code",
   "execution_count": 2,
   "outputs": [],
   "source": [
    "private_key = ec.generate_private_key(\n",
    "    ec.SECP256R1()\n",
    ")\n",
    "data = b\"this is some data I'd like to sign\"\n",
    "signature = private_key.sign(\n",
    "     data,\n",
    "     ec.ECDSA(hashes.SHA256())\n",
    " )"
   ],
   "metadata": {
    "collapsed": false,
    "pycharm": {
     "name": "#%%\n"
    }
   }
  },
  {
   "cell_type": "code",
   "execution_count": 3,
   "outputs": [
    {
     "name": "stdout",
     "output_type": "stream",
     "text": [
      "[72 bytes]:3046022100e7d6c7fcfb3051325a781e7c8a6f4cc77639ef6983a2a8a44924faccec6ebdc7022100d2808bf339e41939aac44cc360362b6f71c96c7f1536f7f735b2448b548110bb\n",
      "verified!\n"
     ]
    }
   ],
   "source": [
    "print(f\"[{len(signature)} bytes]:{signature.hex()}\")\n",
    "public_key = private_key.public_key()\n",
    "public_key.verify(signature, data, ec.ECDSA(hashes.SHA256()))\n",
    "print(\"verified!\")\n"
   ],
   "metadata": {
    "collapsed": false,
    "pycharm": {
     "name": "#%%\n"
    }
   }
  }
 ],
 "metadata": {
  "kernelspec": {
   "display_name": "Python 3",
   "language": "python",
   "name": "python3"
  },
  "language_info": {
   "codemirror_mode": {
    "name": "ipython",
    "version": 2
   },
   "file_extension": ".py",
   "mimetype": "text/x-python",
   "name": "python",
   "nbconvert_exporter": "python",
   "pygments_lexer": "ipython2",
   "version": "2.7.6"
  }
 },
 "nbformat": 4,
 "nbformat_minor": 0
}